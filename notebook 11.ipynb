{
 "cells": [
  {
   "cell_type": "markdown",
   "id": "d8bba665",
   "metadata": {},
   "source": [
    "<img src=\"https://www.sturgischarterschool.com/wp-content/uploads/2019/06/sturgisheader_logo.png\" alt=\"sturgis\" width=\"250\" align=\"right\"/>\n",
    "\n",
    "## Computer Science 'Bootstrapped Flasks' notebook 11\n",
    "### Sturgis Charter Public School \n",
    "\n"
   ]
  },
  {
   "cell_type": "markdown",
   "id": "681696fb",
   "metadata": {},
   "source": [
    "Student: [your name here]\n",
    "\n",
    "Collaborators: [N/A]\n",
    "\n",
    "Notes to the teacher: [N/A]"
   ]
  },
  {
   "cell_type": "markdown",
   "id": "16bf0839",
   "metadata": {},
   "source": [
    "### Learning Objectives for notebook \n",
    "* Install Flask\n",
    "* Create a Flask server\n",
    "* HTML (Hypertext Markup Language) & Markdown Language\n",
    "* Build an API which runs and returns Python code"
   ]
  },
  {
   "cell_type": "markdown",
   "id": "8674f3d2",
   "metadata": {},
   "source": [
    "### Narrative\n",
    "\n",
    "If you double click on this cell (go ahead, try it), you'll note that the text *changes* slightly. That's becasue this is written in markdown, which means that **some** of the text is changed before you see it. To do *italics* wrap things in stars. To write `code` type in the backtick character (to the left of 1). This distinction about markdown will be useful to us as we consider how webpages are rendered. We can even put in [helpful links](https://www.markdownguide.org/). In a jupyter notebook, if you want to render the code, simply run this cell. \n",
    "\n",
    "#### Flask\n",
    "\n",
    "Now let's talk about [Flask](https://flask.palletsprojects.com/en/2.2.x/). Flask allows you to create an API--an application programming interface. What this means in practical terms, is to make your code accessible outside of the coding environment. We see this all the time, but we hardly think about it. Websites are the perfect example, and in fact Flask is meant to be viewed through your web browser. \n",
    "\n",
    "I want to be clear on one point here. I'm not teaching Flask so that you can master it (as much as that would be awesome). Rather, I'm introducing Flask, so that you can be familiar with it. To be sure we're going to play around with it, but we're just going to scratch the surface. \n",
    "\n",
    "One thing you will have to do is [install Flask](https://pypi.org/project/Flask/). You should be able to accomplish this by saying `pip install Flask`\n",
    "\n",
    "#### HTML\n",
    "\n",
    "In this way Flask is an interface between the web and our python code. We've got the python code part figured out, but what about the web part? The answer is HTML, which is ***not*** a programming language. There are no loops, no if statements, none of that, rather it's like a more sophisticated markdown language. Again I'm not going to teach HTML for mastery, but rather introduce it for familiarity. \n",
    "\n",
    "Let's dive in!"
   ]
  },
  {
   "cell_type": "markdown",
   "id": "728158b7",
   "metadata": {},
   "source": [
    "### Helpful Resources \n",
    "\n",
    "These resources are optional. If you're interested in taking a deep dive, by all means do so, but also feel free to just experiment around, and see what happens. It's ok to break the code.\n",
    "\n",
    "[A two-hour overview from start to finish](https://www.youtube.com/watch?v=dam0GPOAvVI&ab_channel=TechWithTim)\n",
    "[A ten minute HTML intro](https://youtu.be/MDLn5-zSQQI)\n",
    "[A taste of dynamic programming (javascript sneaking in!](https://errorsea.com/how-to-change-text-onclick-event-javascript/)"
   ]
  },
  {
   "cell_type": "code",
   "execution_count": null,
   "id": "fb3eb272",
   "metadata": {},
   "outputs": [],
   "source": [
    "from flask import Flask, request, jsonify, json, render_template\n",
    "import matplotlib.pyplot as plt\n",
    "import numpy as np\n",
    "import base64\n",
    "from io import BytesIO\n",
    "from matplotlib.figure import Figure\n",
    "import random"
   ]
  },
  {
   "cell_type": "code",
   "execution_count": null,
   "id": "431ae622",
   "metadata": {},
   "outputs": [],
   "source": [
    "app = Flask(__name__)"
   ]
  },
  {
   "cell_type": "code",
   "execution_count": null,
   "id": "a6fdea06",
   "metadata": {},
   "outputs": [],
   "source": [
    "@app.route('/')\n",
    "def doc():\n",
    "    with open(\"app/doc.html\", \"r\") as f:\n",
    "        return f.read()"
   ]
  },
  {
   "cell_type": "code",
   "execution_count": null,
   "id": "4b9f76fd",
   "metadata": {},
   "outputs": [],
   "source": [
    "@app.route('/tester')\n",
    "def tester():\n",
    "    return render_template('tester.html')"
   ]
  },
  {
   "cell_type": "code",
   "execution_count": null,
   "id": "1a27ffa4",
   "metadata": {},
   "outputs": [],
   "source": [
    "@app.route('/bootstrapper')\n",
    "def index():\n",
    "    return render_template('index.html')"
   ]
  },
  {
   "cell_type": "code",
   "execution_count": null,
   "id": "cc281264",
   "metadata": {},
   "outputs": [],
   "source": [
    "@app.route('/grapher')\n",
    "def graph():\n",
    "    # Generate the figure **without using pyplot**.\n",
    "    fig = Figure()\n",
    "    x = np.sin(np.arange(1,6*np.pi ,.1))\n",
    "    ax = fig.subplots()\n",
    "    ax.plot(x)\n",
    "    # Save it to a temporary buffer.\n",
    "    buf = BytesIO()\n",
    "    fig.savefig(buf, format=\"png\")\n",
    "    # Embed the result in the html output.\n",
    "    data = base64.b64encode(buf.getbuffer()).decode(\"ascii\")\n",
    "    return f\"<img src='data:image/png;base64,{data}'/>\""
   ]
  },
  {
   "cell_type": "code",
   "execution_count": null,
   "id": "64a71ba3",
   "metadata": {},
   "outputs": [],
   "source": [
    "@app.route('/databaser')\n",
    "def database():\n",
    "    return '12345'"
   ]
  },
  {
   "cell_type": "code",
   "execution_count": null,
   "id": "d58c8214",
   "metadata": {},
   "outputs": [],
   "source": [
    "if __name__ == \"__main__\":\n",
    "    app.run(port=5000)"
   ]
  },
  {
   "cell_type": "markdown",
   "id": "4fae5bb1",
   "metadata": {},
   "source": [
    "### Question 1: A working example\n",
    "\n",
    "This weeks task is straightforward. There is only one question: can you build an API that does the following. \n",
    "\n",
    "1. Has a home page that connects to at least 2 other pages\n",
    "2. Implements some level of HTML code\n",
    "3. Makes a call for python code to run and returns the result (easiest is to get your page to display a random number, but there are many other options!)\n",
    "\n",
    "In order to do this, you will need to change the files that are in the folders, which means some of your 'coding' will be outside of the jupyter notebook, and inside of an html document. Working on html documents is easy: you simply open up the html document in a text editor, and when you're done press save. \n",
    "\n",
    "Make sure that your flask server runs, and you can test it by opening up your web browser of choice and typing in: localhost:5000/\n",
    "\n",
    "Good luck!"
   ]
  },
  {
   "cell_type": "code",
   "execution_count": null,
   "id": "acbf65ea",
   "metadata": {},
   "outputs": [],
   "source": []
  }
 ],
 "metadata": {
  "kernelspec": {
   "display_name": "Python 3 (ipykernel)",
   "language": "python",
   "name": "python3"
  },
  "language_info": {
   "codemirror_mode": {
    "name": "ipython",
    "version": 3
   },
   "file_extension": ".py",
   "mimetype": "text/x-python",
   "name": "python",
   "nbconvert_exporter": "python",
   "pygments_lexer": "ipython3",
   "version": "3.9.7"
  }
 },
 "nbformat": 4,
 "nbformat_minor": 5
}
